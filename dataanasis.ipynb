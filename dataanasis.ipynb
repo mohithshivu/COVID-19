{
 "cells": [
  {
   "cell_type": "markdown",
   "metadata": {
    "colab_type": "text",
    "id": "view-in-github"
   },
   "source": [
    "<a href=\"https://colab.research.google.com/github/akash-kaul/Using-scispaCy-for-Named-Entity-Recognition/blob/master/scispaCyNER.ipynb\" target=\"_parent\"><img src=\"https://colab.research.google.com/assets/colab-badge.svg\" alt=\"Open In Colab\"/></a>"
   ]
  },
  {
   "cell_type": "markdown",
   "metadata": {
    "colab_type": "text",
    "id": "RNlfl4HCT0b9"
   },
   "source": [
    "#Install Packages"
   ]
  },
  {
   "cell_type": "code",
   "execution_count": 0,
   "metadata": {
    "colab": {},
    "colab_type": "code",
    "id": "_z5GuCGNKPxK"
   },
   "outputs": [],
   "source": [
    "!pip install -U spacy\n",
    "!pip install scispacy\n",
    "!pip install https://s3-us-west-2.amazonaws.com/ai2-s2-scispacy/releases/v0.2.4/en_core_sci_sm-0.2.4.tar.gz\n",
    "!pip install https://s3-us-west-2.amazonaws.com/ai2-s2-scispacy/releases/v0.2.4/en_ner_craft_md-0.2.4.tar.gz\n",
    "!pip install https://s3-us-west-2.amazonaws.com/ai2-s2-scispacy/releases/v0.2.4/en_ner_jnlpba_md-0.2.4.tar.gz\n",
    "!pip install https://s3-us-west-2.amazonaws.com/ai2-s2-scispacy/releases/v0.2.4/en_ner_bc5cdr_md-0.2.4.tar.gz\n",
    "!pip install https://s3-us-west-2.amazonaws.com/ai2-s2-scispacy/releases/v0.2.4/en_ner_bionlp13cg_md-0.2.4.tar.gz\n",
    "!pip install https://s3-us-west-2.amazonaws.com/ai2-s2-scispacy/releases/v0.2.4/en_core_sci_lg-0.2.4.tar.gz"
   ]
  },
  {
   "cell_type": "markdown",
   "metadata": {
    "colab_type": "text",
    "id": "iLey8-aVT57b"
   },
   "source": [
    "#Import Packages"
   ]
  },
  {
   "cell_type": "code",
   "execution_count": 0,
   "metadata": {
    "colab": {},
    "colab_type": "code",
    "id": "2fkHBVMO_yUh"
   },
   "outputs": [],
   "source": [
    "import scispacy\n",
    "import spacy\n",
    "\n",
    "#Core models\n",
    "import en_core_sci_sm\n",
    "import en_core_sci_lg\n",
    "\n",
    "#NER specific models\n",
    "import en_ner_craft_md\n",
    "import en_ner_bc5cdr_md\n",
    "import en_ner_jnlpba_md\n",
    "import en_ner_bionlp13cg_md\n",
    "\n",
    "#Tools for extracting & displaying data\n",
    "from spacy import displacy\n",
    "import pandas as pd\n"
   ]
  },
  {
   "cell_type": "markdown",
   "metadata": {
    "colab_type": "text",
    "id": "uZb1doG8UFGT"
   },
   "source": [
    "#Read in Single Text (Test Run)"
   ]
  },
  {
   "cell_type": "code",
   "execution_count": 0,
   "metadata": {
    "colab": {},
    "colab_type": "code",
    "id": "4GDRSV_bEY9Y"
   },
   "outputs": [],
   "source": [
    "#Read in csv file\n",
    "meta_df = pd.read_csv(\"/content/sample.csv\")\n",
    "\n",
    "#Pick specific abstract to use (row 0, column \"abstract\")\n",
    "text = meta_df.loc[0, \"abstract\"]\n",
    "\n",
    "#Load specific model and pass text through\n",
    "nlp = en_ner_jnlpba_md.load()\n",
    "doc = nlp(text)\n",
    "\n",
    "#Display resulting entity extraction\n",
    "displacy_image = displacy.render(doc, jupyter=True,style='ent')\n"
   ]
  },
  {
   "cell_type": "markdown",
   "metadata": {
    "colab_type": "text",
    "id": "IOV0kHGfQESP"
   },
   "source": [
    "# Load Models"
   ]
  },
  {
   "cell_type": "code",
   "execution_count": 0,
   "metadata": {
    "colab": {},
    "colab_type": "code",
    "id": "nuv_usDkQDf0"
   },
   "outputs": [],
   "source": [
    "  #Load the models\n",
    "  nlp_cr = en_ner_craft_md.load()\n",
    "  nlp_bc = en_ner_bc5cdr_md.load()\n",
    "  nlp_bi = en_ner_bionlp13cg_md.load()\n",
    "  nlp_jn = en_ner_jnlpba_md.load()"
   ]
  },
  {
   "cell_type": "markdown",
   "metadata": {
    "colab_type": "text",
    "id": "sWgSodvhzAPd"
   },
   "source": [
    "#Methods to add entity/value pairs to table"
   ]
  },
  {
   "cell_type": "code",
   "execution_count": 0,
   "metadata": {
    "colab": {},
    "colab_type": "code",
    "id": "aF4F6aJgo3ZS"
   },
   "outputs": [],
   "source": [
    "def add_cr(abstractList, doiList):\n",
    "    i = 0\n",
    "    table= {\"doi\":[], \"Entity\":[], \"Class\":[]}\n",
    "    for doc in nlp_cr.pipe(abstractList):\n",
    "        doi = doiList[i]\n",
    "        for x in doc.ents:\n",
    "          table[\"doi\"].append(doi)\n",
    "          table[\"Entity\"].append(x.text)\n",
    "          table[\"Class\"].append(x.label_)\n",
    "        i +=1\n",
    "    return table\n"
   ]
  },
  {
   "cell_type": "code",
   "execution_count": 0,
   "metadata": {
    "colab": {},
    "colab_type": "code",
    "id": "5FzfNRrep_fT"
   },
   "outputs": [],
   "source": [
    "def add_bc(abstractList, doiList):\n",
    "    i = 0\n",
    "    table= {\"doi\":[], \"Entity\":[], \"Class\":[]}\n",
    "    for doc in nlp_bc.pipe(abstractList):\n",
    "        doi = doiList[i]\n",
    "        for x in doc.ents:\n",
    "          table[\"doi\"].append(doi)\n",
    "          table[\"Entity\"].append(x.text)\n",
    "          table[\"Class\"].append(x.label_)\n",
    "        i +=1\n",
    "    return table"
   ]
  },
  {
   "cell_type": "code",
   "execution_count": 0,
   "metadata": {
    "colab": {},
    "colab_type": "code",
    "id": "-h7IRa01qGCe"
   },
   "outputs": [],
   "source": [
    "def add_jn(abstractList, doiList):\n",
    "    i = 0\n",
    "    table= {\"doi\":[], \"Entity\":[], \"Class\":[]}\n",
    "    for doc in nlp_jn.pipe(abstractList):\n",
    "        doi = doiList[i]\n",
    "        for x in doc.ents:\n",
    "          table[\"doi\"].append(doi)\n",
    "          table[\"Entity\"].append(x.text)\n",
    "          table[\"Class\"].append(x.label_)\n",
    "        i +=1\n",
    "    return table"
   ]
  },
  {
   "cell_type": "code",
   "execution_count": 0,
   "metadata": {
    "colab": {},
    "colab_type": "code",
    "id": "sjA5v7bIqJjT"
   },
   "outputs": [],
   "source": [
    "def add_bi(abstractList, doiList):\n",
    "    i = 0\n",
    "    table= {\"doi\":[], \"Entity\":[], \"Class\":[]}\n",
    "    for doc in nlp_bi.pipe(abstractList):\n",
    "        doi = doiList[i]\n",
    "        for x in doc.ents:\n",
    "          table[\"doi\"].append(doi)\n",
    "          table[\"Entity\"].append(x.text)\n",
    "          table[\"Class\"].append(x.label_)\n",
    "        i +=1\n",
    "    return table"
   ]
  },
  {
   "cell_type": "markdown",
   "metadata": {
    "colab_type": "text",
    "id": "9DRkbMdKUigM"
   },
   "source": [
    "#Read in Entire File (Main Function)"
   ]
  },
  {
   "cell_type": "code",
   "execution_count": 0,
   "metadata": {
    "colab": {},
    "colab_type": "code",
    "id": "zLpCBd5Vif5F"
   },
   "outputs": [],
   "source": [
    "#Read in file\n",
    "meta_df = pd.read_csv(\"/content/sample.csv\")\n",
    "\n",
    "#Sort out blank abstracts\n",
    "df = meta_df.dropna(subset=['abstract'])\n",
    "\n",
    "#Create lists\n",
    "doiList = df['doi'].tolist()\n",
    "abstractList = df['abstract'].tolist()\n",
    "\n",
    "#Add all entity value pairs to table (run one at a time, each ones takes ~20 min)\n",
    "table = add_cr(abstractList, doiList)\n",
    "\n",
    "# table = add_bc(abstractList, doiList)\n",
    "\n",
    "# table = add_bi(abstractList, doiList)\n",
    "\n",
    "# table = add_jn(abstractList, doiList)\n",
    "\n",
    "#Turn table into an exportable CSV file (returns normalized file of entity/value pairs)\n",
    "trans_df = pd.DataFrame(table)\n",
    "trans_df.to_csv (\"Entity_all.csv\", index=False)"
   ]
  }
 ],
 "metadata": {
  "colab": {
   "collapsed_sections": [],
   "include_colab_link": true,
   "name": "scispaCyNER.ipynb",
   "provenance": []
  },
  "kernelspec": {
   "display_name": "Python 3",
   "language": "python",
   "name": "python3"
  },
  "language_info": {
   "codemirror_mode": {
    "name": "ipython",
    "version": 3
   },
   "file_extension": ".py",
   "mimetype": "text/x-python",
   "name": "python",
   "nbconvert_exporter": "python",
   "pygments_lexer": "ipython3",
   "version": "3.7.4"
  }
 },
 "nbformat": 4,
 "nbformat_minor": 1
}
