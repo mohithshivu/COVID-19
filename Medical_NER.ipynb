{
  "nbformat": 4,
  "nbformat_minor": 0,
  "metadata": {
    "colab": {
      "name": "Medical NER.ipynb",
      "version": "0.3.2",
      "provenance": [],
      "collapsed_sections": [],
      "machine_shape": "hm"
    },
    "kernelspec": {
      "name": "python3",
      "display_name": "Python 3"
    }
  },
  "cells": [
    {
      "cell_type": "code",
      "metadata": {
        "id": "b6QVipQwLH6y",
        "colab_type": "code",
        "outputId": "89fce625-00a3-472a-fac9-896437ab78a3",
        "colab": {
          "base_uri": "https://localhost:8080/",
          "height": 1000
        }
      },
      "source": [
        "!pip install scispacy spacy "
      ],
      "execution_count": 2,
      "outputs": [
        {
          "output_type": "stream",
          "text": [
            "Collecting scispacy\n",
            "  Downloading https://files.pythonhosted.org/packages/5e/83/1b0b2d639c6736acedb738e393ad4566302a88a39b44e792fd98a0137c61/scispacy-0.2.3-py3-none-any.whl\n",
            "Requirement already satisfied: spacy in /usr/local/lib/python3.6/dist-packages (2.1.8)\n",
            "Collecting awscli (from scispacy)\n",
            "\u001b[?25l  Downloading https://files.pythonhosted.org/packages/31/9e/b11543e624f378ddbce35123d60f9b32204581706f21e9f85358fa61e1f5/awscli-1.16.230-py2.py3-none-any.whl (2.0MB)\n",
            "\u001b[K     |████████████████████████████████| 2.0MB 5.5MB/s \n",
            "\u001b[?25hRequirement already satisfied: numpy in /usr/local/lib/python3.6/dist-packages (from scispacy) (1.16.4)\n",
            "Requirement already satisfied: scikit-learn>=0.20.3 in /usr/local/lib/python3.6/dist-packages (from scispacy) (0.21.3)\n",
            "Requirement already satisfied: joblib in /usr/local/lib/python3.6/dist-packages (from scispacy) (0.13.2)\n",
            "Collecting conllu (from scispacy)\n",
            "  Downloading https://files.pythonhosted.org/packages/67/9e/f141bf51c3dc7c36fcdce034194c77c1bfb15dfcbe11719c06c67be946cd/conllu-1.4-py2.py3-none-any.whl\n",
            "Collecting nmslib>=1.7.3.6 (from scispacy)\n",
            "\u001b[?25l  Downloading https://files.pythonhosted.org/packages/b2/4d/4d110e53ff932d7a1ed9c2f23fe8794367087c29026bf9d4b4d1e27eda09/nmslib-1.8.1.tar.gz (261kB)\n",
            "\u001b[K     |████████████████████████████████| 266kB 51.2MB/s \n",
            "\u001b[?25hRequirement already satisfied: srsly<1.1.0,>=0.0.6 in /usr/local/lib/python3.6/dist-packages (from spacy) (0.1.0)\n",
            "Requirement already satisfied: plac<1.0.0,>=0.9.6 in /usr/local/lib/python3.6/dist-packages (from spacy) (0.9.6)\n",
            "Requirement already satisfied: thinc<7.1.0,>=7.0.8 in /usr/local/lib/python3.6/dist-packages (from spacy) (7.0.8)\n",
            "Requirement already satisfied: requests<3.0.0,>=2.13.0 in /usr/local/lib/python3.6/dist-packages (from spacy) (2.21.0)\n",
            "Requirement already satisfied: cymem<2.1.0,>=2.0.2 in /usr/local/lib/python3.6/dist-packages (from spacy) (2.0.2)\n",
            "Requirement already satisfied: wasabi<1.1.0,>=0.2.0 in /usr/local/lib/python3.6/dist-packages (from spacy) (0.2.2)\n",
            "Requirement already satisfied: preshed<2.1.0,>=2.0.1 in /usr/local/lib/python3.6/dist-packages (from spacy) (2.0.1)\n",
            "Requirement already satisfied: murmurhash<1.1.0,>=0.28.0 in /usr/local/lib/python3.6/dist-packages (from spacy) (1.0.2)\n",
            "Requirement already satisfied: blis<0.3.0,>=0.2.2 in /usr/local/lib/python3.6/dist-packages (from spacy) (0.2.4)\n",
            "Requirement already satisfied: PyYAML<=5.2,>=3.10; python_version != \"2.6\" in /usr/local/lib/python3.6/dist-packages (from awscli->scispacy) (3.13)\n",
            "Collecting botocore==1.12.220 (from awscli->scispacy)\n",
            "\u001b[?25l  Downloading https://files.pythonhosted.org/packages/ea/0d/7bd08434788c48f2cd4ab9da937cb7eaaf987a16c8ef4a7f05fc97b84db9/botocore-1.12.220-py2.py3-none-any.whl (5.7MB)\n",
            "\u001b[K     |████████████████████████████████| 5.7MB 35.6MB/s \n",
            "\u001b[?25hCollecting rsa<=3.5.0,>=3.1.2 (from awscli->scispacy)\n",
            "\u001b[?25l  Downloading https://files.pythonhosted.org/packages/e1/ae/baedc9cb175552e95f3395c43055a6a5e125ae4d48a1d7a924baca83e92e/rsa-3.4.2-py2.py3-none-any.whl (46kB)\n",
            "\u001b[K     |████████████████████████████████| 51kB 20.0MB/s \n",
            "\u001b[?25hRequirement already satisfied: docutils<0.16,>=0.10 in /usr/local/lib/python3.6/dist-packages (from awscli->scispacy) (0.15.2)\n",
            "Collecting colorama<=0.3.9,>=0.2.5 (from awscli->scispacy)\n",
            "  Downloading https://files.pythonhosted.org/packages/db/c8/7dcf9dbcb22429512708fe3a547f8b6101c0d02137acbd892505aee57adf/colorama-0.3.9-py2.py3-none-any.whl\n",
            "Requirement already satisfied: s3transfer<0.3.0,>=0.2.0 in /usr/local/lib/python3.6/dist-packages (from awscli->scispacy) (0.2.1)\n",
            "Requirement already satisfied: scipy>=0.17.0 in /usr/local/lib/python3.6/dist-packages (from scikit-learn>=0.20.3->scispacy) (1.3.1)\n",
            "Collecting pybind11>=2.0 (from nmslib>=1.7.3.6->scispacy)\n",
            "\u001b[?25l  Downloading https://files.pythonhosted.org/packages/5d/85/c7a8dffda52ce25a8bcfe9a28b6861bdd52da59ae001fdd4173e054b7d9b/pybind11-2.3.0-py2.py3-none-any.whl (147kB)\n",
            "\u001b[K     |████████████████████████████████| 153kB 42.9MB/s \n",
            "\u001b[?25hRequirement already satisfied: tqdm<5.0.0,>=4.10.0 in /usr/local/lib/python3.6/dist-packages (from thinc<7.1.0,>=7.0.8->spacy) (4.28.1)\n",
            "Requirement already satisfied: idna<2.9,>=2.5 in /usr/local/lib/python3.6/dist-packages (from requests<3.0.0,>=2.13.0->spacy) (2.8)\n",
            "Requirement already satisfied: chardet<3.1.0,>=3.0.2 in /usr/local/lib/python3.6/dist-packages (from requests<3.0.0,>=2.13.0->spacy) (3.0.4)\n",
            "Requirement already satisfied: certifi>=2017.4.17 in /usr/local/lib/python3.6/dist-packages (from requests<3.0.0,>=2.13.0->spacy) (2019.6.16)\n",
            "Requirement already satisfied: urllib3<1.25,>=1.21.1 in /usr/local/lib/python3.6/dist-packages (from requests<3.0.0,>=2.13.0->spacy) (1.24.3)\n",
            "Requirement already satisfied: jmespath<1.0.0,>=0.7.1 in /usr/local/lib/python3.6/dist-packages (from botocore==1.12.220->awscli->scispacy) (0.9.4)\n",
            "Requirement already satisfied: python-dateutil<3.0.0,>=2.1; python_version >= \"2.7\" in /usr/local/lib/python3.6/dist-packages (from botocore==1.12.220->awscli->scispacy) (2.5.3)\n",
            "Requirement already satisfied: pyasn1>=0.1.3 in /usr/local/lib/python3.6/dist-packages (from rsa<=3.5.0,>=3.1.2->awscli->scispacy) (0.4.6)\n",
            "Requirement already satisfied: six>=1.5 in /usr/local/lib/python3.6/dist-packages (from python-dateutil<3.0.0,>=2.1; python_version >= \"2.7\"->botocore==1.12.220->awscli->scispacy) (1.12.0)\n",
            "Building wheels for collected packages: nmslib\n",
            "  Building wheel for nmslib (setup.py) ... \u001b[?25lerror\n",
            "\u001b[31m  ERROR: Failed building wheel for nmslib\u001b[0m\n",
            "\u001b[?25h  Running setup.py clean for nmslib\n",
            "Failed to build nmslib\n",
            "Installing collected packages: botocore, rsa, colorama, awscli, conllu, pybind11, nmslib, scispacy\n",
            "  Found existing installation: botocore 1.12.216\n",
            "    Uninstalling botocore-1.12.216:\n",
            "      Successfully uninstalled botocore-1.12.216\n",
            "  Found existing installation: rsa 4.0\n",
            "    Uninstalling rsa-4.0:\n",
            "      Successfully uninstalled rsa-4.0\n",
            "  Running setup.py install for nmslib ... \u001b[?25l\u001b[?25hdone\n",
            "Successfully installed awscli-1.16.230 botocore-1.12.220 colorama-0.3.9 conllu-1.4 nmslib-1.8.1 pybind11-2.3.0 rsa-3.4.2 scispacy-0.2.3\n"
          ],
          "name": "stdout"
        },
        {
          "output_type": "display_data",
          "data": {
            "application/vnd.colab-display-data+json": {
              "pip_warning": {
                "packages": [
                  "rsa"
                ]
              }
            }
          },
          "metadata": {
            "tags": []
          }
        }
      ]
    },
    {
      "cell_type": "code",
      "metadata": {
        "id": "OTywhJYMLNus",
        "colab_type": "code",
        "outputId": "9f2040eb-29d5-4ae6-c050-097558dbcbb8",
        "colab": {
          "base_uri": "https://localhost:8080/",
          "height": 445
        }
      },
      "source": [
        "pip install https://s3-us-west-2.amazonaws.com/ai2-s2-scispacy/releases/v0.2.0/en_core_sci_sm-0.2.0.tar.gz"
      ],
      "execution_count": 1,
      "outputs": [
        {
          "output_type": "stream",
          "text": [
            "Collecting https://s3-us-west-2.amazonaws.com/ai2-s2-scispacy/releases/v0.2.0/en_core_sci_sm-0.2.0.tar.gz\n",
            "  Using cached https://s3-us-west-2.amazonaws.com/ai2-s2-scispacy/releases/v0.2.0/en_core_sci_sm-0.2.0.tar.gz\n",
            "Requirement already satisfied (use --upgrade to upgrade): en-core-sci-sm==0.2.0 from https://s3-us-west-2.amazonaws.com/ai2-s2-scispacy/releases/v0.2.0/en_core_sci_sm-0.2.0.tar.gz in /usr/local/lib/python3.6/dist-packages\n",
            "Requirement already satisfied: spacy>=2.1.3 in /usr/local/lib/python3.6/dist-packages (from en-core-sci-sm==0.2.0) (2.1.8)\n",
            "Requirement already satisfied: plac<1.0.0,>=0.9.6 in /usr/local/lib/python3.6/dist-packages (from spacy>=2.1.3->en-core-sci-sm==0.2.0) (0.9.6)\n",
            "Requirement already satisfied: murmurhash<1.1.0,>=0.28.0 in /usr/local/lib/python3.6/dist-packages (from spacy>=2.1.3->en-core-sci-sm==0.2.0) (1.0.2)\n",
            "Requirement already satisfied: cymem<2.1.0,>=2.0.2 in /usr/local/lib/python3.6/dist-packages (from spacy>=2.1.3->en-core-sci-sm==0.2.0) (2.0.2)\n",
            "Requirement already satisfied: numpy>=1.15.0 in /usr/local/lib/python3.6/dist-packages (from spacy>=2.1.3->en-core-sci-sm==0.2.0) (1.16.4)\n",
            "Requirement already satisfied: thinc<7.1.0,>=7.0.8 in /usr/local/lib/python3.6/dist-packages (from spacy>=2.1.3->en-core-sci-sm==0.2.0) (7.0.8)\n",
            "Requirement already satisfied: srsly<1.1.0,>=0.0.6 in /usr/local/lib/python3.6/dist-packages (from spacy>=2.1.3->en-core-sci-sm==0.2.0) (0.1.0)\n",
            "Requirement already satisfied: blis<0.3.0,>=0.2.2 in /usr/local/lib/python3.6/dist-packages (from spacy>=2.1.3->en-core-sci-sm==0.2.0) (0.2.4)\n",
            "Requirement already satisfied: wasabi<1.1.0,>=0.2.0 in /usr/local/lib/python3.6/dist-packages (from spacy>=2.1.3->en-core-sci-sm==0.2.0) (0.2.2)\n",
            "Requirement already satisfied: preshed<2.1.0,>=2.0.1 in /usr/local/lib/python3.6/dist-packages (from spacy>=2.1.3->en-core-sci-sm==0.2.0) (2.0.1)\n",
            "Requirement already satisfied: requests<3.0.0,>=2.13.0 in /usr/local/lib/python3.6/dist-packages (from spacy>=2.1.3->en-core-sci-sm==0.2.0) (2.21.0)\n",
            "Requirement already satisfied: tqdm<5.0.0,>=4.10.0 in /usr/local/lib/python3.6/dist-packages (from thinc<7.1.0,>=7.0.8->spacy>=2.1.3->en-core-sci-sm==0.2.0) (4.28.1)\n",
            "Requirement already satisfied: chardet<3.1.0,>=3.0.2 in /usr/local/lib/python3.6/dist-packages (from requests<3.0.0,>=2.13.0->spacy>=2.1.3->en-core-sci-sm==0.2.0) (3.0.4)\n",
            "Requirement already satisfied: urllib3<1.25,>=1.21.1 in /usr/local/lib/python3.6/dist-packages (from requests<3.0.0,>=2.13.0->spacy>=2.1.3->en-core-sci-sm==0.2.0) (1.24.3)\n",
            "Requirement already satisfied: idna<2.9,>=2.5 in /usr/local/lib/python3.6/dist-packages (from requests<3.0.0,>=2.13.0->spacy>=2.1.3->en-core-sci-sm==0.2.0) (2.8)\n",
            "Requirement already satisfied: certifi>=2017.4.17 in /usr/local/lib/python3.6/dist-packages (from requests<3.0.0,>=2.13.0->spacy>=2.1.3->en-core-sci-sm==0.2.0) (2019.6.16)\n",
            "Building wheels for collected packages: en-core-sci-sm\n",
            "  Building wheel for en-core-sci-sm (setup.py) ... \u001b[?25l\u001b[?25hdone\n",
            "  Created wheel for en-core-sci-sm: filename=en_core_sci_sm-0.2.0-cp36-none-any.whl size=15065471 sha256=402f4e2cba7a37b0170675433b531a48fb1d721a996fb11bcf858223dc7ccc75\n",
            "  Stored in directory: /root/.cache/pip/wheels/c6/26/0b/614566ec5374c7f3e2fa2a564f063e4425d550a3b4b86ecc76\n",
            "Successfully built en-core-sci-sm\n"
          ],
          "name": "stdout"
        }
      ]
    },
    {
      "cell_type": "markdown",
      "metadata": {
        "id": "dCeRTnB7txgw",
        "colab_type": "text"
      },
      "source": [
        "Install Packages"
      ]
    },
    {
      "cell_type": "code",
      "metadata": {
        "id": "BIWMU3KDDIBG",
        "colab_type": "code",
        "colab": {}
      },
      "source": [
        "import scispacy\n",
        "import spacy\n",
        "import en_core_sci_sm\n",
        "from spacy import displacy\n",
        "from scispacy.abbreviation import AbbreviationDetector\n",
        "from scispacy.umls_linking import UmlsEntityLinker\n",
        "\n",
        "#Load the model\n",
        "nlp = en_core_sci_sm.load()\n",
        "# nlp = spacy.load(\"en\")"
      ],
      "execution_count": 0,
      "outputs": []
    },
    {
      "cell_type": "markdown",
      "metadata": {
        "id": "hvV_aobPt84o",
        "colab_type": "text"
      },
      "source": [
        "Pass the input text we need to process"
      ]
    },
    {
      "cell_type": "code",
      "metadata": {
        "id": "mLlJVzV5H9HE",
        "colab_type": "code",
        "outputId": "f8c86bb5-1106-41aa-9d44-bc6212b8b273",
        "colab": {
          "base_uri": "https://localhost:8080/",
          "height": 88
        }
      },
      "source": [
        "text = \"\"\"\n",
        "Myeloid derived suppressor cells (MDSC) are immature myeloid cells with immunosuppressive activity. They accumulate in tumor-bearing mice and humans with different types of cancer, including hepatocellular carcinoma (HCC).\n",
        "\"\"\"\n",
        "doc = nlp(text)\n",
        "\n",
        "\n",
        "#Split the text into sentences.\n",
        "\n",
        "print(list(doc.sents))"
      ],
      "execution_count": 3,
      "outputs": [
        {
          "output_type": "stream",
          "text": [
            "[\n",
            "Myeloid derived suppressor cells (MDSC) are immature myeloid cells with immunosuppressive activity., They accumulate in tumor-bearing mice and humans with different types of cancer, including hepatocellular carcinoma (HCC).\n",
            "]\n"
          ],
          "name": "stdout"
        }
      ]
    },
    {
      "cell_type": "code",
      "metadata": {
        "id": "nFTBraGoIAVG",
        "colab_type": "code",
        "outputId": "d6097e49-7748-4ff6-98a9-6bed2d1dad22",
        "colab": {
          "base_uri": "https://localhost:8080/",
          "height": 34
        }
      },
      "source": [
        "#Print the Medical or Clinical entities present in the input text\n",
        "print(doc.ents)"
      ],
      "execution_count": 4,
      "outputs": [
        {
          "output_type": "stream",
          "text": [
            "(Myeloid derived, MDSC, immature myeloid cells, immunosuppressive activity, accumulate, tumor-bearing mice, humans, cancer, hepatocellular carcinoma, HCC)\n"
          ],
          "name": "stdout"
        }
      ]
    },
    {
      "cell_type": "code",
      "metadata": {
        "id": "9NSO-QGFIOJD",
        "colab_type": "code",
        "outputId": "95c01f17-2600-4c3a-fbcc-b9085d3928e2",
        "colab": {
          "base_uri": "https://localhost:8080/",
          "height": 528
        }
      },
      "source": [
        "# visualise dependency parses\n",
        "displacy.render(next(doc.sents), style='dep', jupyter=True)"
      ],
      "execution_count": 5,
      "outputs": [
        {
          "output_type": "display_data",
          "data": {
            "text/html": [
              "<svg xmlns=\"http://www.w3.org/2000/svg\" xmlns:xlink=\"http://www.w3.org/1999/xlink\" xml:lang=\"en\" id=\"1ef86b4309f44332926325ad22b3e5f2-0\" class=\"displacy\" width=\"2325\" height=\"487.0\" direction=\"ltr\" style=\"max-width: none; height: 487.0px; color: #000000; background: #ffffff; font-family: Arial; direction: ltr\">\n",
              "<text class=\"displacy-token\" fill=\"currentColor\" text-anchor=\"middle\" y=\"397.0\">\n",
              "    <tspan class=\"displacy-word\" fill=\"currentColor\" x=\"50\">\n",
              "</tspan>\n",
              "    <tspan class=\"displacy-tag\" dy=\"2em\" fill=\"currentColor\" x=\"50\">SPACE</tspan>\n",
              "</text>\n",
              "\n",
              "<text class=\"displacy-token\" fill=\"currentColor\" text-anchor=\"middle\" y=\"397.0\">\n",
              "    <tspan class=\"displacy-word\" fill=\"currentColor\" x=\"225\">Myeloid</tspan>\n",
              "    <tspan class=\"displacy-tag\" dy=\"2em\" fill=\"currentColor\" x=\"225\">ADJ</tspan>\n",
              "</text>\n",
              "\n",
              "<text class=\"displacy-token\" fill=\"currentColor\" text-anchor=\"middle\" y=\"397.0\">\n",
              "    <tspan class=\"displacy-word\" fill=\"currentColor\" x=\"400\">derived</tspan>\n",
              "    <tspan class=\"displacy-tag\" dy=\"2em\" fill=\"currentColor\" x=\"400\">VERB</tspan>\n",
              "</text>\n",
              "\n",
              "<text class=\"displacy-token\" fill=\"currentColor\" text-anchor=\"middle\" y=\"397.0\">\n",
              "    <tspan class=\"displacy-word\" fill=\"currentColor\" x=\"575\">suppressor</tspan>\n",
              "    <tspan class=\"displacy-tag\" dy=\"2em\" fill=\"currentColor\" x=\"575\">NOUN</tspan>\n",
              "</text>\n",
              "\n",
              "<text class=\"displacy-token\" fill=\"currentColor\" text-anchor=\"middle\" y=\"397.0\">\n",
              "    <tspan class=\"displacy-word\" fill=\"currentColor\" x=\"750\">cells (</tspan>\n",
              "    <tspan class=\"displacy-tag\" dy=\"2em\" fill=\"currentColor\" x=\"750\">NOUN</tspan>\n",
              "</text>\n",
              "\n",
              "<text class=\"displacy-token\" fill=\"currentColor\" text-anchor=\"middle\" y=\"397.0\">\n",
              "    <tspan class=\"displacy-word\" fill=\"currentColor\" x=\"925\">MDSC)</tspan>\n",
              "    <tspan class=\"displacy-tag\" dy=\"2em\" fill=\"currentColor\" x=\"925\">NOUN</tspan>\n",
              "</text>\n",
              "\n",
              "<text class=\"displacy-token\" fill=\"currentColor\" text-anchor=\"middle\" y=\"397.0\">\n",
              "    <tspan class=\"displacy-word\" fill=\"currentColor\" x=\"1100\">are</tspan>\n",
              "    <tspan class=\"displacy-tag\" dy=\"2em\" fill=\"currentColor\" x=\"1100\">VERB</tspan>\n",
              "</text>\n",
              "\n",
              "<text class=\"displacy-token\" fill=\"currentColor\" text-anchor=\"middle\" y=\"397.0\">\n",
              "    <tspan class=\"displacy-word\" fill=\"currentColor\" x=\"1275\">immature</tspan>\n",
              "    <tspan class=\"displacy-tag\" dy=\"2em\" fill=\"currentColor\" x=\"1275\">ADJ</tspan>\n",
              "</text>\n",
              "\n",
              "<text class=\"displacy-token\" fill=\"currentColor\" text-anchor=\"middle\" y=\"397.0\">\n",
              "    <tspan class=\"displacy-word\" fill=\"currentColor\" x=\"1450\">myeloid</tspan>\n",
              "    <tspan class=\"displacy-tag\" dy=\"2em\" fill=\"currentColor\" x=\"1450\">ADJ</tspan>\n",
              "</text>\n",
              "\n",
              "<text class=\"displacy-token\" fill=\"currentColor\" text-anchor=\"middle\" y=\"397.0\">\n",
              "    <tspan class=\"displacy-word\" fill=\"currentColor\" x=\"1625\">cells</tspan>\n",
              "    <tspan class=\"displacy-tag\" dy=\"2em\" fill=\"currentColor\" x=\"1625\">NOUN</tspan>\n",
              "</text>\n",
              "\n",
              "<text class=\"displacy-token\" fill=\"currentColor\" text-anchor=\"middle\" y=\"397.0\">\n",
              "    <tspan class=\"displacy-word\" fill=\"currentColor\" x=\"1800\">with</tspan>\n",
              "    <tspan class=\"displacy-tag\" dy=\"2em\" fill=\"currentColor\" x=\"1800\">ADP</tspan>\n",
              "</text>\n",
              "\n",
              "<text class=\"displacy-token\" fill=\"currentColor\" text-anchor=\"middle\" y=\"397.0\">\n",
              "    <tspan class=\"displacy-word\" fill=\"currentColor\" x=\"1975\">immunosuppressive</tspan>\n",
              "    <tspan class=\"displacy-tag\" dy=\"2em\" fill=\"currentColor\" x=\"1975\">ADJ</tspan>\n",
              "</text>\n",
              "\n",
              "<text class=\"displacy-token\" fill=\"currentColor\" text-anchor=\"middle\" y=\"397.0\">\n",
              "    <tspan class=\"displacy-word\" fill=\"currentColor\" x=\"2150\">activity.</tspan>\n",
              "    <tspan class=\"displacy-tag\" dy=\"2em\" fill=\"currentColor\" x=\"2150\">NOUN</tspan>\n",
              "</text>\n",
              "\n",
              "<g class=\"displacy-arrow\">\n",
              "    <path class=\"displacy-arc\" id=\"arrow-1ef86b4309f44332926325ad22b3e5f2-0-0\" stroke-width=\"2px\" d=\"M70,352.0 C70,264.5 210.0,264.5 210.0,352.0\" fill=\"none\" stroke=\"currentColor\"/>\n",
              "    <text dy=\"1.25em\" style=\"font-size: 0.8em; letter-spacing: 1px\">\n",
              "        <textPath xlink:href=\"#arrow-1ef86b4309f44332926325ad22b3e5f2-0-0\" class=\"displacy-label\" startOffset=\"50%\" side=\"left\" fill=\"currentColor\" text-anchor=\"middle\"></textPath>\n",
              "    </text>\n",
              "    <path class=\"displacy-arrowhead\" d=\"M70,354.0 L62,342.0 78,342.0\" fill=\"currentColor\"/>\n",
              "</g>\n",
              "\n",
              "<g class=\"displacy-arrow\">\n",
              "    <path class=\"displacy-arc\" id=\"arrow-1ef86b4309f44332926325ad22b3e5f2-0-1\" stroke-width=\"2px\" d=\"M245,352.0 C245,264.5 385.0,264.5 385.0,352.0\" fill=\"none\" stroke=\"currentColor\"/>\n",
              "    <text dy=\"1.25em\" style=\"font-size: 0.8em; letter-spacing: 1px\">\n",
              "        <textPath xlink:href=\"#arrow-1ef86b4309f44332926325ad22b3e5f2-0-1\" class=\"displacy-label\" startOffset=\"50%\" side=\"left\" fill=\"currentColor\" text-anchor=\"middle\">nsubj</textPath>\n",
              "    </text>\n",
              "    <path class=\"displacy-arrowhead\" d=\"M245,354.0 L237,342.0 253,342.0\" fill=\"currentColor\"/>\n",
              "</g>\n",
              "\n",
              "<g class=\"displacy-arrow\">\n",
              "    <path class=\"displacy-arc\" id=\"arrow-1ef86b4309f44332926325ad22b3e5f2-0-2\" stroke-width=\"2px\" d=\"M420,352.0 C420,177.0 740.0,177.0 740.0,352.0\" fill=\"none\" stroke=\"currentColor\"/>\n",
              "    <text dy=\"1.25em\" style=\"font-size: 0.8em; letter-spacing: 1px\">\n",
              "        <textPath xlink:href=\"#arrow-1ef86b4309f44332926325ad22b3e5f2-0-2\" class=\"displacy-label\" startOffset=\"50%\" side=\"left\" fill=\"currentColor\" text-anchor=\"middle\">amod</textPath>\n",
              "    </text>\n",
              "    <path class=\"displacy-arrowhead\" d=\"M420,354.0 L412,342.0 428,342.0\" fill=\"currentColor\"/>\n",
              "</g>\n",
              "\n",
              "<g class=\"displacy-arrow\">\n",
              "    <path class=\"displacy-arc\" id=\"arrow-1ef86b4309f44332926325ad22b3e5f2-0-3\" stroke-width=\"2px\" d=\"M595,352.0 C595,264.5 735.0,264.5 735.0,352.0\" fill=\"none\" stroke=\"currentColor\"/>\n",
              "    <text dy=\"1.25em\" style=\"font-size: 0.8em; letter-spacing: 1px\">\n",
              "        <textPath xlink:href=\"#arrow-1ef86b4309f44332926325ad22b3e5f2-0-3\" class=\"displacy-label\" startOffset=\"50%\" side=\"left\" fill=\"currentColor\" text-anchor=\"middle\">compound</textPath>\n",
              "    </text>\n",
              "    <path class=\"displacy-arrowhead\" d=\"M595,354.0 L587,342.0 603,342.0\" fill=\"currentColor\"/>\n",
              "</g>\n",
              "\n",
              "<g class=\"displacy-arrow\">\n",
              "    <path class=\"displacy-arc\" id=\"arrow-1ef86b4309f44332926325ad22b3e5f2-0-4\" stroke-width=\"2px\" d=\"M770,352.0 C770,2.0 1625.0,2.0 1625.0,352.0\" fill=\"none\" stroke=\"currentColor\"/>\n",
              "    <text dy=\"1.25em\" style=\"font-size: 0.8em; letter-spacing: 1px\">\n",
              "        <textPath xlink:href=\"#arrow-1ef86b4309f44332926325ad22b3e5f2-0-4\" class=\"displacy-label\" startOffset=\"50%\" side=\"left\" fill=\"currentColor\" text-anchor=\"middle\">nsubj</textPath>\n",
              "    </text>\n",
              "    <path class=\"displacy-arrowhead\" d=\"M770,354.0 L762,342.0 778,342.0\" fill=\"currentColor\"/>\n",
              "</g>\n",
              "\n",
              "<g class=\"displacy-arrow\">\n",
              "    <path class=\"displacy-arc\" id=\"arrow-1ef86b4309f44332926325ad22b3e5f2-0-5\" stroke-width=\"2px\" d=\"M770,352.0 C770,264.5 910.0,264.5 910.0,352.0\" fill=\"none\" stroke=\"currentColor\"/>\n",
              "    <text dy=\"1.25em\" style=\"font-size: 0.8em; letter-spacing: 1px\">\n",
              "        <textPath xlink:href=\"#arrow-1ef86b4309f44332926325ad22b3e5f2-0-5\" class=\"displacy-label\" startOffset=\"50%\" side=\"left\" fill=\"currentColor\" text-anchor=\"middle\">appos</textPath>\n",
              "    </text>\n",
              "    <path class=\"displacy-arrowhead\" d=\"M910.0,354.0 L918.0,342.0 902.0,342.0\" fill=\"currentColor\"/>\n",
              "</g>\n",
              "\n",
              "<g class=\"displacy-arrow\">\n",
              "    <path class=\"displacy-arc\" id=\"arrow-1ef86b4309f44332926325ad22b3e5f2-0-6\" stroke-width=\"2px\" d=\"M1120,352.0 C1120,89.5 1620.0,89.5 1620.0,352.0\" fill=\"none\" stroke=\"currentColor\"/>\n",
              "    <text dy=\"1.25em\" style=\"font-size: 0.8em; letter-spacing: 1px\">\n",
              "        <textPath xlink:href=\"#arrow-1ef86b4309f44332926325ad22b3e5f2-0-6\" class=\"displacy-label\" startOffset=\"50%\" side=\"left\" fill=\"currentColor\" text-anchor=\"middle\">predet</textPath>\n",
              "    </text>\n",
              "    <path class=\"displacy-arrowhead\" d=\"M1120,354.0 L1112,342.0 1128,342.0\" fill=\"currentColor\"/>\n",
              "</g>\n",
              "\n",
              "<g class=\"displacy-arrow\">\n",
              "    <path class=\"displacy-arc\" id=\"arrow-1ef86b4309f44332926325ad22b3e5f2-0-7\" stroke-width=\"2px\" d=\"M1295,352.0 C1295,177.0 1615.0,177.0 1615.0,352.0\" fill=\"none\" stroke=\"currentColor\"/>\n",
              "    <text dy=\"1.25em\" style=\"font-size: 0.8em; letter-spacing: 1px\">\n",
              "        <textPath xlink:href=\"#arrow-1ef86b4309f44332926325ad22b3e5f2-0-7\" class=\"displacy-label\" startOffset=\"50%\" side=\"left\" fill=\"currentColor\" text-anchor=\"middle\">amod</textPath>\n",
              "    </text>\n",
              "    <path class=\"displacy-arrowhead\" d=\"M1295,354.0 L1287,342.0 1303,342.0\" fill=\"currentColor\"/>\n",
              "</g>\n",
              "\n",
              "<g class=\"displacy-arrow\">\n",
              "    <path class=\"displacy-arc\" id=\"arrow-1ef86b4309f44332926325ad22b3e5f2-0-8\" stroke-width=\"2px\" d=\"M1470,352.0 C1470,264.5 1610.0,264.5 1610.0,352.0\" fill=\"none\" stroke=\"currentColor\"/>\n",
              "    <text dy=\"1.25em\" style=\"font-size: 0.8em; letter-spacing: 1px\">\n",
              "        <textPath xlink:href=\"#arrow-1ef86b4309f44332926325ad22b3e5f2-0-8\" class=\"displacy-label\" startOffset=\"50%\" side=\"left\" fill=\"currentColor\" text-anchor=\"middle\">amod</textPath>\n",
              "    </text>\n",
              "    <path class=\"displacy-arrowhead\" d=\"M1470,354.0 L1462,342.0 1478,342.0\" fill=\"currentColor\"/>\n",
              "</g>\n",
              "\n",
              "<g class=\"displacy-arrow\">\n",
              "    <path class=\"displacy-arc\" id=\"arrow-1ef86b4309f44332926325ad22b3e5f2-0-9\" stroke-width=\"2px\" d=\"M1820,352.0 C1820,177.0 2140.0,177.0 2140.0,352.0\" fill=\"none\" stroke=\"currentColor\"/>\n",
              "    <text dy=\"1.25em\" style=\"font-size: 0.8em; letter-spacing: 1px\">\n",
              "        <textPath xlink:href=\"#arrow-1ef86b4309f44332926325ad22b3e5f2-0-9\" class=\"displacy-label\" startOffset=\"50%\" side=\"left\" fill=\"currentColor\" text-anchor=\"middle\">case</textPath>\n",
              "    </text>\n",
              "    <path class=\"displacy-arrowhead\" d=\"M1820,354.0 L1812,342.0 1828,342.0\" fill=\"currentColor\"/>\n",
              "</g>\n",
              "\n",
              "<g class=\"displacy-arrow\">\n",
              "    <path class=\"displacy-arc\" id=\"arrow-1ef86b4309f44332926325ad22b3e5f2-0-10\" stroke-width=\"2px\" d=\"M1995,352.0 C1995,264.5 2135.0,264.5 2135.0,352.0\" fill=\"none\" stroke=\"currentColor\"/>\n",
              "    <text dy=\"1.25em\" style=\"font-size: 0.8em; letter-spacing: 1px\">\n",
              "        <textPath xlink:href=\"#arrow-1ef86b4309f44332926325ad22b3e5f2-0-10\" class=\"displacy-label\" startOffset=\"50%\" side=\"left\" fill=\"currentColor\" text-anchor=\"middle\">amod</textPath>\n",
              "    </text>\n",
              "    <path class=\"displacy-arrowhead\" d=\"M1995,354.0 L1987,342.0 2003,342.0\" fill=\"currentColor\"/>\n",
              "</g>\n",
              "\n",
              "<g class=\"displacy-arrow\">\n",
              "    <path class=\"displacy-arc\" id=\"arrow-1ef86b4309f44332926325ad22b3e5f2-0-11\" stroke-width=\"2px\" d=\"M1645,352.0 C1645,89.5 2145.0,89.5 2145.0,352.0\" fill=\"none\" stroke=\"currentColor\"/>\n",
              "    <text dy=\"1.25em\" style=\"font-size: 0.8em; letter-spacing: 1px\">\n",
              "        <textPath xlink:href=\"#arrow-1ef86b4309f44332926325ad22b3e5f2-0-11\" class=\"displacy-label\" startOffset=\"50%\" side=\"left\" fill=\"currentColor\" text-anchor=\"middle\">nmod</textPath>\n",
              "    </text>\n",
              "    <path class=\"displacy-arrowhead\" d=\"M2145.0,354.0 L2153.0,342.0 2137.0,342.0\" fill=\"currentColor\"/>\n",
              "</g>\n",
              "</svg>"
            ],
            "text/plain": [
              "<IPython.core.display.HTML object>"
            ]
          },
          "metadata": {
            "tags": []
          }
        }
      ]
    },
    {
      "cell_type": "code",
      "metadata": {
        "id": "6DBMLtIBIUsX",
        "colab_type": "code",
        "colab": {}
      },
      "source": [
        "# Add the abbreviation pipe to the spacy pipeline.\n",
        "abbreviation_pipe = AbbreviationDetector(nlp)\n",
        "nlp.add_pipe(abbreviation_pipe)"
      ],
      "execution_count": 0,
      "outputs": []
    },
    {
      "cell_type": "code",
      "metadata": {
        "id": "zLgOoO0aI6Ss",
        "colab_type": "code",
        "colab": {}
      },
      "source": [
        "doc = nlp(text)"
      ],
      "execution_count": 0,
      "outputs": []
    },
    {
      "cell_type": "code",
      "metadata": {
        "id": "u_C-j7P8Izex",
        "colab_type": "code",
        "outputId": "39f20cac-2e52-47a1-b59b-34d9b51603ed",
        "colab": {
          "base_uri": "https://localhost:8080/",
          "height": 68
        }
      },
      "source": [
        "#Print the Abbreviation and it's definition\n",
        "print(\"Abbreviation\", \"\\t\", \"Definition\")\n",
        "for abrv in doc._.abbreviations:\n",
        "  print(f\"{abrv} \\t ({abrv.start}, {abrv.end}) {abrv._.long_form}\")"
      ],
      "execution_count": 0,
      "outputs": [
        {
          "output_type": "stream",
          "text": [
            "Abbreviation \t Definition\n",
            "MDSC \t (6, 7) Myeloid derived suppressor cells\n",
            "HCC \t (33, 34) hepatocellular carcinoma\n"
          ],
          "name": "stdout"
        }
      ]
    },
    {
      "cell_type": "code",
      "metadata": {
        "id": "UOp_gdK4JBMB",
        "colab_type": "code",
        "outputId": "1b1d0b03-3d15-454f-d831-c0a1625fcf4a",
        "colab": {
          "base_uri": "https://localhost:8080/",
          "height": 309
        }
      },
      "source": [
        "linker = UmlsEntityLinker(resolve_abbreviations=True)\n",
        "nlp.add_pipe(linker)"
      ],
      "execution_count": 0,
      "outputs": [
        {
          "output_type": "stream",
          "text": [
            "https://s3-us-west-2.amazonaws.com/ai2-s2-scispacy/data/linking_model/tfidf_vectors_sparse.npz not found in cache, downloading to /tmp/tmpvd4bmda2\n",
            "Finished download, copying /tmp/tmpvd4bmda2 to cache at /root/.scispacy/datasets/ea855fd121a193f03190a91417c209d4cd97e63d3ce4b456c248ef7c13a4ca77.03518aabd12de2103a27a50302f37c3d87b0f313a8be08b5ec306c9c4334b9b1.tfidf_vectors_sparse.npz\n",
            "https://s3-us-west-2.amazonaws.com/ai2-s2-scispacy/data/linking_model/nmslib_index.bin not found in cache, downloading to /tmp/tmpmy7kq1g7\n",
            "Finished download, copying /tmp/tmpmy7kq1g7 to cache at /root/.scispacy/datasets/5f620d1bd549a98c005ed601a73806ea2cd1a86ae6c54bbc62bcb3b452ca2630.27a7ac6807fde6628311ff7d70b86fefc640d0eb70637b544c591722a2c16c2a.nmslib_index.bin\n",
            "https://s3-us-west-2.amazonaws.com/ai2-s2-scispacy/data/linking_model/tfidf_vectorizer.joblib not found in cache, downloading to /tmp/tmp34ig88vj\n",
            "Finished download, copying /tmp/tmp34ig88vj to cache at /root/.scispacy/datasets/ffb7a77cdcb3c9233c1e4009c69f38efc13c3619238c508459b5f03fd5f14e4b.9e501319abafbe723d25f1737402d504af6f198fb43b96c85692fa0f9ddc5516.tfidf_vectorizer.joblib\n"
          ],
          "name": "stdout"
        },
        {
          "output_type": "stream",
          "text": [
            "/usr/local/lib/python3.6/dist-packages/sklearn/base.py:306: UserWarning: Trying to unpickle estimator TfidfTransformer from version 0.20.3 when using version 0.21.3. This might lead to breaking code or invalid results. Use at your own risk.\n",
            "  UserWarning)\n",
            "/usr/local/lib/python3.6/dist-packages/sklearn/base.py:306: UserWarning: Trying to unpickle estimator TfidfVectorizer from version 0.20.3 when using version 0.21.3. This might lead to breaking code or invalid results. Use at your own risk.\n",
            "  UserWarning)\n"
          ],
          "name": "stderr"
        },
        {
          "output_type": "stream",
          "text": [
            "https://s3-us-west-2.amazonaws.com/ai2-s2-scispacy/data/linking_model/concept_aliases.json not found in cache, downloading to /tmp/tmpy1oo9oqq\n",
            "Finished download, copying /tmp/tmpy1oo9oqq to cache at /root/.scispacy/datasets/0f064d20aefab965d5772b2100f8436b3541e7d5313c76cfe5fe070902f149fe.31df9cdb04729860a81bd6c980224ed2bff582586c398d0c9b96ae4e257b9da2.concept_aliases.json\n",
            "https://s3-us-west-2.amazonaws.com/ai2-s2-scispacy/data/umls_2017_aa_cat0129.json not found in cache, downloading to /tmp/tmpcfpz05mk\n",
            "Finished download, copying /tmp/tmpcfpz05mk to cache at /root/.scispacy/datasets/13b30cd31cd37c1b52f3df6ea023061172d16e9941660e677fdbb29489af7410.4ad71d86ce780e00cab131c7e3b81acfd2f11dd80ccd61125c8bcde506f2ab8a.umls_2017_aa_cat0129.json\n",
            "https://s3-us-west-2.amazonaws.com/ai2-s2-scispacy/data/umls_semantic_type_tree.tsv not found in cache, downloading to /tmp/tmpf3r_32wh\n",
            "Finished download, copying /tmp/tmpf3r_32wh to cache at /root/.scispacy/datasets/21a1012c532c3a431d60895c509f5b4d45b0f8966c4178b892190a302b21836f.330707f4efe774134872b9f77f0e3208c1d30f50800b3b39a6b8ec21d9adf1b7.umls_semantic_type_tree.tsv\n"
          ],
          "name": "stdout"
        }
      ]
    },
    {
      "cell_type": "code",
      "metadata": {
        "id": "oHYfMD9TJtlE",
        "colab_type": "code",
        "colab": {}
      },
      "source": [
        "doc = nlp(text)"
      ],
      "execution_count": 0,
      "outputs": []
    },
    {
      "cell_type": "code",
      "metadata": {
        "id": "3Uk5sKJ9Jy3Y",
        "colab_type": "code",
        "outputId": "378fecda-ac07-47ff-9aaf-72fb0dc0b4e1",
        "colab": {
          "base_uri": "https://localhost:8080/",
          "height": 34
        }
      },
      "source": [
        "# Let's look at a random entity!\n",
        "entity = doc.ents[1]\n",
        "\n",
        "print(\"Name: \", entity)"
      ],
      "execution_count": 0,
      "outputs": [
        {
          "output_type": "stream",
          "text": [
            "Name:  MDSC\n"
          ],
          "name": "stdout"
        }
      ]
    },
    {
      "cell_type": "code",
      "metadata": {
        "id": "03uy8RNuJzok",
        "colab_type": "code",
        "outputId": "fd4f8565-ee77-48b6-c72d-724c8ba884ee",
        "colab": {
          "base_uri": "https://localhost:8080/",
          "height": 292
        }
      },
      "source": [
        "# Each entity is linked to UMLS with a score\n",
        "# (currently just char-3gram matching).\n",
        "for umls_ent in entity._.umls_ents:\n",
        "    print(linker.umls.cui_to_entity[umls_ent[0]])"
      ],
      "execution_count": 0,
      "outputs": [
        {
          "output_type": "stream",
          "text": [
            "CUI: C4277543, Name: Myeloid-Derived Suppressor Cells\n",
            "Definition: A heterogeneous, immature population of myeloid cells that can suppress the activity of T-CELLS and NATURAL KILLER CELLS in the INNATE IMMUNE RESPONSE and ADAPTIVE IMMUNE RESPONSE. They play important roles in ONCOGENESIS; INFLAMMATION; and INFECTION.\n",
            "TUI(s): T025\n",
            "Aliases: (total: 7): \n",
            "\t Cell, Myeloid-Derived Suppressor, Myeloid Derived Suppressor Cells, Myeloid-Derived Suppressor Cell, Suppressor Cell, Myeloid-Derived, Cells, Myeloid-Derived Suppressor, Suppressor Cells, Myeloid-Derived, MDSCs\n",
            "CUI: C1513790, Name: Negative Regulation of Myeloid Cell Activation\n",
            "Definition: Myeloid Cell Suppression involves interference with, or restraint of, the production and activity of myeloid cells.\n",
            "TUI(s): T043\n",
            "Aliases: (total: 1): \n",
            "\t Myeloid Cell Suppression\n",
            "CUI: C0887899, Name: Myeloid Cells\n",
            "Definition: The classes of BONE MARROW-derived blood cells in the monocytic series (MONOCYTES and their precursors) and granulocytic series (GRANULOCYTES and their precursors).\n",
            "TUI(s): T025\n",
            "Aliases: (total: 9): \n",
            "\t Myeloid Cells, Myeloid Cells, myeloid cells, Myeloid cells, myeloid cell, Cell, Myeloid, Myeloid Cell, Myeloid Cell, Cells, Myeloid\n"
          ],
          "name": "stdout"
        }
      ]
    },
    {
      "cell_type": "code",
      "metadata": {
        "id": "ZK-3ocSRJ27U",
        "colab_type": "code",
        "colab": {}
      },
      "source": [
        "doc = nlp(\"Spinal and bulbar muscular atrophy (SBMA) is an \\\n",
        "           inherited motor neuron disease caused by the expansion \\\n",
        "           of a polyglutamine tract within the androgen receptor (AR). \\\n",
        "           SBMA can be caused by this easily.\")"
      ],
      "execution_count": 0,
      "outputs": []
    },
    {
      "cell_type": "code",
      "metadata": {
        "id": "GN0QsevCKj3k",
        "colab_type": "code",
        "outputId": "bd3b7f2d-2fc1-43af-eda1-5fd06875f033",
        "colab": {
          "base_uri": "https://localhost:8080/",
          "height": 1000
        }
      },
      "source": [
        "#Find the entities and it's definition\n",
        "\n",
        "entity = doc.ents\n",
        "# Each entity is linked to UMLS with a score\n",
        "# (currently just char-3gram matching).\n",
        "for i in range(len(entity)):\n",
        "  for umls_ent in entity[i]._.umls_ents:\n",
        "    print(linker.umls.cui_to_entity[umls_ent[0]])"
      ],
      "execution_count": 0,
      "outputs": [
        {
          "output_type": "stream",
          "text": [
            "CUI: C0521329, Name: spinal\n",
            "Definition: Of or relating to the spine or spinal cord.\n",
            "TUI(s): T082\n",
            "Aliases: (total: 3): \n",
            "\t Spinal, Spinal, Spinal\n",
            "CUI: C0037922, Name: Spinal Canal\n",
            "Definition: The cavity within the SPINAL COLUMN through which the SPINAL CORD passes.\n",
            "TUI(s): T030\n",
            "Aliases (abbreviated, total: 25): \n",
            "\t Spinal Canal, Spinal Canal, canal spinal, Spinal canal, Spinal canal, Spinal canal, Spinal canal, Spinal canal, Spinal canal, spinal canal\n",
            "CUI: C3887662, Name: Intraspinal Neoplasm\n",
            "Definition: A primary or metastatic neoplasm that occurs within the spinal canal including the spinal cord and surrounding paraspinal spaces.\n",
            "TUI(s): T191\n",
            "Aliases (abbreviated, total: 16): \n",
            "\t Intraspinal Neoplasm, Intraspinal Neoplasms, spinal neoplasms, Spinal Neoplasms, neoplasm spinal, Spinal Tumors, Spinal Canal and Spinal Cord Neoplasm, Neoplasm of Spinal Canal and Spinal Cord, Neoplasm of the Spinal Canal and Spinal Cord, Neoplasms of Spinal Canal and Spinal Cord\n",
            "CUI: C1334264, Name: Intraspinal Meningioma\n",
            "Definition: A meningioma that arises from the spinal meninges.\n",
            "TUI(s): T191\n",
            "Aliases: (total: 3): \n",
            "\t Spinal Canal and Spinal Cord Meningioma, Meningioma of Spinal Canal and Spinal Cord, Meningioma of the Spinal Canal and Spinal Cord\n",
            "CUI: C0037925, Name: Spinal Cord\n",
            "Definition: A cylindrical column of tissue that lies within the vertebral canal. It is composed of WHITE MATTER and GRAY MATTER.\n",
            "TUI(s): T023\n",
            "Aliases (abbreviated, total: 38): \n",
            "\t Spinal Cord, Spinal Cord, Spinal Cord, Spinal Cord, Spinal Cord, SPINAL CORD, SPINAL CORD, Spinal cord, Spinal cord, Spinal cord\n",
            "CUI: C1839259, Name: Bulbo-Spinal Atrophy, X-Linked\n",
            "Definition: An X-linked recessive form of spinal muscular atrophy. It is due to a mutation of the gene encoding the ANDROGEN RECEPTOR.\n",
            "TUI(s): T047\n",
            "Aliases (abbreviated, total: 50): \n",
            "\t Bulbo-Spinal Atrophy, X-Linked, Bulbo-Spinal Atrophy, X-Linked, Atrophies, X-Linked Bulbo-Spinal, Bulbo Spinal Atrophy, X Linked, Bulbo-Spinal Atrophies, X-Linked, X-Linked Bulbo-Spinal Atrophies, Atrophy, X-Linked Bulbo-Spinal, X Linked Bulbo Spinal Atrophy, X-Linked Bulbo-Spinal Atrophy, X-Linked Bulbo-Spinal Atrophy\n",
            "CUI: C0541794, Name: Skeletal muscle atrophy\n",
            "Definition: A process, occurring in skeletal muscle, that is characterized by a decrease in protein content, fiber diameter, force production and fatigue resistance in response to different conditions such as starvation, aging and disuse. [GOC:mtg_muscle]\n",
            "TUI(s): T046\n",
            "Aliases: (total: 9): \n",
            "\t Skeletal muscle atrophy, ATROPHY SKELETAL MUSCLE, skeletal muscle atrophy, Muscular atrophy, Muscle atrophy, Amyotrophy, Muscle wasting, Amyotrophy involving the extremities, Muscle hypotrophy\n",
            "CUI: C0026846, Name: Muscular Atrophy\n",
            "Definition: Derangement in size and number of muscle fibers occurring with aging, reduction in blood supply, or following immobilization, prolonged weightlessness, malnutrition, and particularly in denervation.\n",
            "TUI(s): T046\n",
            "Aliases (abbreviated, total: 51): \n",
            "\t Muscular Atrophy, Muscular Atrophy, Muscular Atrophy, Muscular Atrophy, muscular atrophy, Muscular atrophy, Muscular atrophy, Muscular atrophy, Atrophies, Muscular, Muscular Atrophies\n",
            "CUI: C1447749, Name: AR protein, human\n",
            "Definition: Androgen receptor (919 aa, ~99 kDa) is encoded by the human AR gene. This protein plays a role in the modulation of steroid-dependent gene transcription.\n",
            "TUI(s): T116, T192\n",
            "Aliases (abbreviated, total: 16): \n",
            "\t AR protein, human, Androgen Receptor, Dihydrotestosterone Receptor, AR, DHTR, NR3C4, AR (androgen receptor (dihydrotestosterone receptor; testicular feminization; spinal and bulbar muscular atrophy; Kennedy disease)) protein, human, polymorphic X-linked androgen receptor, human, androgen receptor, human, spinal and bulbar muscular atrophy protein, human\n",
            "CUI: C0026847, Name: Spinal Muscular Atrophy\n",
            "Definition: A group of disorders marked by progressive degeneration of motor neurons in the spinal cord resulting in weakness and muscular atrophy, usually without evidence of injury to the corticospinal tracts. Diseases in this category include Werdnig-Hoffmann disease and later onset SPINAL MUSCULAR ATROPHIES OF CHILDHOOD, most of which are hereditary. (Adams et al., Principles of Neurology, 6th ed, p1089)\n",
            "TUI(s): T047\n",
            "Aliases (abbreviated, total: 39): \n",
            "\t Spinal Muscular Atrophy, Spinal Muscular Atrophy, Spinal Muscular Atrophy, Spinal Muscular Atrophy, Spinal Muscular Atrophy, MUSCULAR ATROPHY, SPINAL, atrophy muscular spinal, atrophy spinal muscular, muscular atrophy spinal, muscular spinal atrophy\n",
            "CUI: C1839259, Name: Bulbo-Spinal Atrophy, X-Linked\n",
            "Definition: An X-linked recessive form of spinal muscular atrophy. It is due to a mutation of the gene encoding the ANDROGEN RECEPTOR.\n",
            "TUI(s): T047\n",
            "Aliases (abbreviated, total: 50): \n",
            "\t Bulbo-Spinal Atrophy, X-Linked, Bulbo-Spinal Atrophy, X-Linked, Atrophies, X-Linked Bulbo-Spinal, Bulbo Spinal Atrophy, X Linked, Bulbo-Spinal Atrophies, X-Linked, X-Linked Bulbo-Spinal Atrophies, Atrophy, X-Linked Bulbo-Spinal, X Linked Bulbo Spinal Atrophy, X-Linked Bulbo-Spinal Atrophy, X-Linked Bulbo-Spinal Atrophy\n",
            "CUI: C1705240, Name: AR wt Allele\n",
            "Definition: Human AR wild-type allele is located within Xq11.2-q12 and is approximately 180 kb in length. This allele, which encodes androgen receptor protein, is involved in steroid-hormone activated transcriptional regulation. Mutations in the gene are associated with complete androgen insensitivity syndrome.\n",
            "TUI(s): T028\n",
            "Aliases (abbreviated, total: 11): \n",
            "\t AR wt Allele, TFM, AR, HUMARA, SBMA, AIS, DHTR, KD, NR3C4, SMAX1\n",
            "CUI: C0439660, Name: Hereditary\n",
            "Definition: Transmitted from parent to child by information contained in the genes.\n",
            "TUI(s): T169\n",
            "Aliases (abbreviated, total: 14): \n",
            "\t Hereditary, Hereditary, Hereditary, HEREDITARY, hereditary, hereditary, Inherited, INHERITED, inherited, inherited\n",
            "CUI: C0019247, Name: Hereditary Diseases\n",
            "Definition: Genetic diseases are diseases in which inherited genes predispose to increased risk. The genetic disorders associated with cancer often result from an alteration or mutation in a single gene. The diseases range from rare dominant cancer family syndrome to familial tendencies in which low-penetrance genes may interact with other genes or environmental factors to induce cancer. Research may involve clinical, epidemiologic, and laboratory studies of persons, families, and populations at high risk of these disorders.\n",
            "TUI(s): T047\n",
            "Aliases (abbreviated, total: 47): \n",
            "\t Hereditary Diseases, Hereditary Diseases, diseases hereditary, hereditary diseases, Disease, Hereditary, Hereditary Disease, Hereditary Disease, Hereditary disease, NOS, hereditary disease, Hereditary disease\n",
            "CUI: C4277541, Name: Paternal Inheritance\n",
            "Definition: A form of inheritance where the traits of the offspring are paternal in origin due to the expression of extra-nuclear genetic material such as MITOCHONDRIAL DNA or Y chromosome genes. CENTRIOLES are also paternally inherited.\n",
            "TUI(s): T045\n",
            "Aliases: (total: 9): \n",
            "\t Inheritance, Paternal, Paternal Effect, Effects, Paternal, Paternal Effects, Effect, Paternal, Inherited Paternally, Inherited, Paternally, Paternally Inherited, Paternally, Inherited\n",
            "CUI: C4277511, Name: Maternal Inheritance\n",
            "Definition: Transmission of genetic characters, qualities, and traits, solely from maternal extra-nuclear elements such as MITOCHONDRIAL DNA or MATERNAL MESSENGER RNA.\n",
            "TUI(s): T045\n",
            "Aliases: (total: 9): \n",
            "\t Inheritance, Maternal, Maternal Effect, Effects, Maternal, Maternal Effects, Effect, Maternal, Inherited Maternally, Inherited, Maternally, Maternally Inherited, Maternally, Inherited\n",
            "CUI: C1708511, Name: Mode of inheritance\n",
            "Definition: The manner in which a genetic trait or disorder is passed from one generation to the next. Autosomal dominant, autosomal recessive, X-linked dominant, X-linked recessive, multifactorial, and mitochondrial inheritance are examples. Each mode of inheritance results in a characteristic pattern of affected and unaffected family members.\n",
            "TUI(s): T045\n",
            "Aliases: (total: 5): \n",
            "\t Mode of inheritance, mode of inheritance, Mode of Inheritance, Inheritance Mode, Inheritance\n",
            "CUI: C0085084, Name: Motor Neuron Disease\n",
            "Definition: Diseases characterized by a selective degeneration of the motor neurons of the spinal cord, brainstem, or motor cortex. Clinical subtypes are distinguished by the major site of degeneration. In AMYOTROPHIC LATERAL SCLEROSIS there is involvement of upper, lower, and brainstem motor neurons. In progressive muscular atrophy and related syndromes (see MUSCULAR ATROPHY, SPINAL) the motor neurons in the spinal cord are primarily affected. With progressive bulbar palsy (BULBAR PALSY, PROGRESSIVE), the initial degeneration occurs in the brainstem. In primary lateral sclerosis, the cortical neurons are affected in isolation. (Adams et al., Principles of Neurology, 6th ed, p1089)\n",
            "TUI(s): T047\n",
            "Aliases (abbreviated, total: 32): \n",
            "\t Motor Neuron Disease, disease motor neuron, MOTOR NEURON DISEASE, Motor neuron disease, Motor neuron disease, Motor neuron disease, motor neuron disease, motor neuron disease, Motor Neuron Diseases, Neuron Diseases, Motor\n",
            "CUI: C1865412, Name: Abnormal lower motor neuron morphology\n",
            "Definition: Any structural anomaly of the lower motor neuron. [HPO:probinson]\n",
            "TUI(s): T033\n",
            "Aliases: (total: 5): \n",
            "\t Abnormal lower motor neuron morphology, Lower motor neuron disease, Lower motor neuron manifestations, Lower motor neuron signs, Lower motor neuron signs\n",
            "CUI: C0007595, Name: cell growth\n",
            "Definition: The process in which a cell irreversibly increases in size over time by accretion and biosynthetic production of matter similar to that already present. [GOC:ai]\n",
            "TUI(s): T043\n",
            "Aliases (abbreviated, total: 14): \n",
            "\t cell growth, cell growth, cell growth, cell growth, Cell Growth, cell growths, cells growth, Cells--Growth, growth of cell, growth cell\n",
            "CUI: C1654621, Name: imaginal disc-derived wing expansion\n",
            "Definition: The process of expanding or inflating the folded imaginal disc-derived pupal wing, and the adhering of the dorsal and ventral surfaces, to form the mature adult wing. [GOC:mtg_sensu, GOC:rc]\n",
            "TUI(s): T042\n",
            "Aliases: (total: 2): \n",
            "\t wing expansion, wing inflation\n",
            "CUI: C0196940, Name: Nerve Expansion\n",
            "Definition: Procedures that stimulate nerve elongation over a period of time. They are used in repairing nerve tissue.\n",
            "TUI(s): T061\n",
            "Aliases (abbreviated, total: 27): \n",
            "\t Expansions, Nerve, Nerve Expansions, Expansion, Nerve, Neurectasis, Neurectasis, neurectasis, Neurectasis, NOS, Nerve Stretching, Stretching of nerve, NOS, nerve stretched\n",
            "CUI: C1516670, Name: Clonal Expansion\n",
            "Definition: Multiplication or reproduction by cell division of a population of identical cells descended from a single progenitor. In immunology, may refer to the clonal proliferation of cells responsive to a specific antigen as part of an immune response. (NCI)\n",
            "TUI(s): T046\n",
            "Aliases: (total: 0): \n",
            "\t \n",
            "CUI: C1519678, Name: Tumor Expansion\n",
            "Definition: Growth of a tumor involving either an increase in size of a continuous tumor tissue mass or translocation of tumor cells to secondary sites. (NCI)\n",
            "TUI(s): T191\n",
            "Aliases: (total: 0): \n",
            "\t \n",
            "CUI: C0032500, Name: Polyglutamic Acid\n",
            "Definition: A peptide that is a homopolymer of glutamic acid.\n",
            "TUI(s): T116\n",
            "Aliases: (total: 5): \n",
            "\t Polyglutamic Acid, polyglutamic acid, L-Glutamic acid, homopolymer, L-Glutamic acid, homopolymer, Polyglutamic Acid [Chemical/Ingredient]\n",
            "CUI: C0392213, Name: polyglutamates\n",
            "Definition: peptide that is a homopolymer of glutamic acid.\n",
            "TUI(s): T116\n",
            "Aliases: (total: 3): \n",
            "\t polyglutamates, polyglutamate, polyglutamate\n",
            "CUI: C1447749, Name: AR protein, human\n",
            "Definition: Androgen receptor (919 aa, ~99 kDa) is encoded by the human AR gene. This protein plays a role in the modulation of steroid-dependent gene transcription.\n",
            "TUI(s): T116, T192\n",
            "Aliases (abbreviated, total: 16): \n",
            "\t AR protein, human, Androgen Receptor, Dihydrotestosterone Receptor, AR, DHTR, NR3C4, AR (androgen receptor (dihydrotestosterone receptor; testicular feminization; spinal and bulbar muscular atrophy; Kennedy disease)) protein, human, polymorphic X-linked androgen receptor, human, androgen receptor, human, spinal and bulbar muscular atrophy protein, human\n",
            "CUI: C0034786, Name: Androgen Receptor\n",
            "Definition: Proteins, generally found in the CYTOPLASM, that specifically bind ANDROGENS and mediate their cellular actions. The complex of the androgen and receptor migrates to the CELL NUCLEUS where it induces transcription of specific segments of DNA.\n",
            "TUI(s): T116, T192\n",
            "Aliases (abbreviated, total: 40): \n",
            "\t Androgen Receptor, Androgen Receptor, androgen receptor, androgen receptor, Androgen receptor, Androgen receptor, Androgen Receptors, Androgen Receptors, Receptors, Androgen, Receptors, Androgen\n",
            "CUI: C1367578, Name: AR gene\n",
            "Definition: This gene plays a role in the transcriptional activation of androgen responsive genes.\n",
            "TUI(s): T028\n",
            "Aliases (abbreviated, total: 21): \n",
            "\t AR gene, AR gene, AR Gene, ANDROGEN RECEPTOR, androgen receptor, androgen receptor, testicular feminization, DIHYDROTESTOSTERONE RECEPTOR, AR, AR\n",
            "CUI: C1323350, Name: androgen receptor binding\n",
            "Definition: Interacting selectively and non-covalently with an androgen receptor. [GOC:ai]\n",
            "TUI(s): T044\n",
            "Aliases: (total: 1): \n",
            "\t AR binding\n",
            "CUI: C1148774, Name: androgen receptor activity\n",
            "Definition: Combining with an androgen and transmitting the signal to the transcriptional machinery by interacting selectively and non-covalently with an androgen response element in DNA in order to modulate transcription by RNA polymerase II. [GOC:signaling, PMID:19372015]\n",
            "TUI(s): T044\n",
            "Aliases: (total: 1): \n",
            "\t androgen receptor activity\n",
            "CUI: C1367578, Name: AR gene\n",
            "Definition: This gene plays a role in the transcriptional activation of androgen responsive genes.\n",
            "TUI(s): T028\n",
            "Aliases (abbreviated, total: 21): \n",
            "\t AR gene, AR gene, AR Gene, ANDROGEN RECEPTOR, androgen receptor, androgen receptor, testicular feminization, DIHYDROTESTOSTERONE RECEPTOR, AR, AR\n",
            "CUI: C0003761, Name: Country of Argentina\n",
            "Definition: A country in southern South America, bordering the South Atlantic Ocean, between Chile and Uruguay.(CIA World Factbook 2002)\n",
            "TUI(s): T083\n",
            "Aliases (abbreviated, total: 18): \n",
            "\t Argentina, Argentina, Argentina, Argentina, Argentina, Argentina, Argentina, Argentina, argentina, ARGENTINA\n",
            "CUI: C0003790, Name: Arkansas\n",
            "Definition: State of the UNITED STATES OF AMERICA bounded on the north by Missouri, on the east by Tennessee and Mississippi, on the south by Louisiana, and on the west by Oklahoma and Texas.\n",
            "TUI(s): T083\n",
            "Aliases: (total: 10): \n",
            "\t Arkansas, Arkansas, Arkansas, Arkansas, Arkansas, Arkansas, arkansas, AR, AR, Arkansas (geographic location)\n",
            "CUI: C1447749, Name: AR protein, human\n",
            "Definition: Androgen receptor (919 aa, ~99 kDa) is encoded by the human AR gene. This protein plays a role in the modulation of steroid-dependent gene transcription.\n",
            "TUI(s): T116, T192\n",
            "Aliases (abbreviated, total: 16): \n",
            "\t AR protein, human, Androgen Receptor, Dihydrotestosterone Receptor, AR, DHTR, NR3C4, AR (androgen receptor (dihydrotestosterone receptor; testicular feminization; spinal and bulbar muscular atrophy; Kennedy disease)) protein, human, polymorphic X-linked androgen receptor, human, androgen receptor, human, spinal and bulbar muscular atrophy protein, human\n",
            "CUI: C1514768, Name: Recombinant Amphiregulin\n",
            "Definition: A recombinant form of amphiregulin, a member of the heparin-binding epidermal growth factor (EGF) family. Endogenous amphiregulin is an autocrine growth factor, and binds to the EGF receptor. Overexpressed in several cancer cell types, endogenous amphiregulin may contribute to tumor cell proliferation and metastasis. (NCI04)\n",
            "TUI(s): T116, T121\n",
            "Aliases: (total: 4): \n",
            "\t Recombinant Amphiregulin, CRDGF, AR, KAF\n"
          ],
          "name": "stdout"
        }
      ]
    },
    {
      "cell_type": "code",
      "metadata": {
        "id": "6CRAbCCiKkYr",
        "colab_type": "code",
        "colab": {}
      },
      "source": [
        ""
      ],
      "execution_count": 0,
      "outputs": []
    },
    {
      "cell_type": "code",
      "metadata": {
        "id": "BWgDrQwMYrv2",
        "colab_type": "code",
        "colab": {
          "base_uri": "https://localhost:8080/",
          "height": 187
        },
        "outputId": "bf593a72-d2cb-45e0-be0c-c2e45e5ee0e9"
      },
      "source": [
        "for ent in doc.ents:\n",
        "    print(ent.text, ent.start_char, ent.end_char, ent.label_)"
      ],
      "execution_count": 8,
      "outputs": [
        {
          "output_type": "stream",
          "text": [
            "Myeloid derived 1 16 ENTITY\n",
            "MDSC 35 39 ENTITY\n",
            "immature myeloid cells 45 67 ENTITY\n",
            "immunosuppressive activity 73 99 ENTITY\n",
            "accumulate 106 116 ENTITY\n",
            "tumor-bearing mice 120 138 ENTITY\n",
            "humans 143 149 ENTITY\n",
            "cancer 174 180 ENTITY\n",
            "hepatocellular carcinoma 192 216 ENTITY\n",
            "HCC 218 221 ENTITY\n"
          ],
          "name": "stdout"
        }
      ]
    },
    {
      "cell_type": "code",
      "metadata": {
        "id": "0a14rqdjedkl",
        "colab_type": "code",
        "colab": {
          "base_uri": "https://localhost:8080/",
          "height": 85
        },
        "outputId": "624db693-9d7e-4630-b984-5517977f03a8"
      },
      "source": [
        "displacy.serve(doc, style=\"ent\")"
      ],
      "execution_count": 0,
      "outputs": [
        {
          "output_type": "stream",
          "text": [
            "\n",
            "Using the 'ent' visualizer\n",
            "Serving on http://0.0.0.0:5000 ...\n",
            "\n"
          ],
          "name": "stdout"
        }
      ]
    }
  ]
}
